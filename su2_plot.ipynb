{
 "cells": [
  {
   "cell_type": "code",
   "execution_count": 1,
   "metadata": {
    "collapsed": true,
    "deletable": true,
    "editable": true
   },
   "outputs": [],
   "source": [
    "from math import * \n",
    "import numpy as np\n",
    "import matplotlib.pyplot as plt\n",
    "from scipy.optimize import curve_fit"
   ]
  },
  {
   "cell_type": "code",
   "execution_count": 116,
   "metadata": {
    "collapsed": true,
    "deletable": true,
    "editable": true
   },
   "outputs": [],
   "source": [
    "data = np.array([(0.1, 0.02523, 0.00200768, -0.000328909, 0.00212281, -0.000547226, 0.00231122, 0.000454994, 0.00215121, -0.000378604, 0.00186627),\n",
    "(0.2, 0.0504191, 0.00164652, -0.000358371, 0.00170915, 0.000328963, 0.00169726, -0.000757137, 0.00194539, 0.00123583, 0.00218579),\n",
    "(0.3, 0.0747612, 0.00193735, 0.000275159, 0.00198899, 0.000176513, 0.0017363, -0.000603784, 0.00243967, -1.58513e-05, 0.00175208),\n",
    "(0.4, 0.0991427, 0.00208908, 0.000513835, 0.0021625, -0.000729021, 0.0017427, 0.000407294, 0.00151425, 0.00016419, 0.00231959),\n",
    "(0.5, 0.124656, 0.00206172, 0.000108171, 0.00227648, -0.00137454, 0.001807, 0.000341027, 0.00244984, -0.000213733, 0.00207546),\n",
    "(0.6, 0.148554, 0.00147341, 0.00045178, 0.00221337, -0.000220763, 0.00281445, -0.000172788, 0.00264793, -0.000363637, 0.00212617),\n",
    "(0.7, 0.172253, 0.0027644, 0.000585696, 0.00213375, -8.12671e-05, 0.00158256, -0.000289421, 0.00170677, -0.000145643, 0.00177665),\n",
    "(0.8, 0.195794, 0.00199203, 0.00193066, 0.00173689, 0.000742256, 0.00263183, -0.000188398, 0.00156052, -0.000397987, 0.00196455),\n",
    "(0.9, 0.219827, 0.00210505, 0.00250553, 0.00203044, 0.000467508, 0.00239658, -0.000427122, 0.00189325, 0.000625086, 0.00179292),\n",
    "(1, 0.242907, 0.00170161, 0.00326058, 0.00203516, -0.000656603, 0.00183792, 0.000594974, 0.00174033, 0.000327045, 0.00200588),\n",
    "(1.1, 0.267167, 0.00222084, 0.00612525, 0.00211692, 0.00142245, 0.00137264, -0.000507906, 0.00186674, -0.000523889, 0.00201682),\n",
    "(1.2, 0.290908, 0.00194376, 0.00703726, 0.00203735, -0.000340158, 0.0016186, -0.00084483, 0.0020903, 0.000416301, 0.00122358),\n",
    "(1.3, 0.312464, 0.00188061, 0.00963377, 0.00246539, -0.000408958, 0.00183821, 0.000255491, 0.00141031, 0.000406623, 0.00163877),\n",
    "(1.4, 0.338802, 0.00191784, 0.0129574, 0.00170989, 0.000439254, 0.00258784, -0.000655106, 0.0022043, -0.00026399, 0.00155014),\n",
    "(1.5, 0.362131, 0.00176384, 0.0174391, 0.00201833, 0.000990924, 0.00230205, 0.000242073, 0.00165535, 0.000347248, 0.00237872),\n",
    "(1.6, 0.38719, 0.00181837, 0.0239197, 0.00223561, 0.000511742, 0.00226626, -0.000537511, 0.00193179, 0.000419949, 0.00218286),\n",
    "(1.7, 0.414155, 0.00156244, 0.0317794, 0.0016862, 0.00072276, 0.00213026, -0.000648953, 0.00249996, -0.000433168, 0.00179023),\n",
    "(1.8, 0.439931, 0.00186073, 0.0401876, 0.00215501, 0.00114137, 0.00182286, -0.00081431, 0.00203654, -0.00110269, 0.00247363),\n",
    "(1.9, 0.468897, 0.00154317, 0.0540263, 0.00229953, 0.000949628, 0.00180733, -1.82867e-05, 0.00211535, -0.00021571, 0.00189828),\n",
    "(2, 0.500063, 0.00155965, 0.0727065, 0.00274038, 0.00471951, 0.00256447, -0.0003781, 0.00230466, 0.000806167, 0.00171183),\n",
    "(2.1, 0.53071, 0.00157205, 0.0948032, 0.00249369, 0.00601648, 0.00242521, 0.00091892, 0.00208372, 0.000109406, 0.00180238),\n",
    "(2.2, 0.570148, 0.00160017, 0.137772, 0.00246636, 0.0176564, 0.0020997, 0.00183401, 0.00224235, 0.000271248, 0.00191966),\n",
    "(2.3, 0.600741, 0.00149718, 0.178299, 0.00242238, 0.034409, 0.0027305, 0.00457574, 0.00205129, -7.13107e-05, 0.00199172),\n",
    "(2.4, 0.626436, 0.00141821, 0.214992, 0.00370163, 0.0534337, 0.0020125, 0.010396, 0.00187168, 0.0013707, 0.00196296),\n",
    "(2.5, 0.646857, 0.00108674, 0.241835, 0.00227276, 0.0664898, 0.0026415, 0.0141159, 0.00200154, 0.00173247, 0.00253088),\n",
    "(2.6, 0.664094, 0.00162108, 0.271335, 0.00258386, 0.0834234, 0.00297318, 0.0206928, 0.00113827, 0.00391951, 0.00214747),\n",
    "(2.7, 0.67856, 0.000853357, 0.291894, 0.00206198, 0.098337, 0.00195261, 0.0250122, 0.00215983, 0.00481112, 0.00220476),\n",
    "(2.8, 0.695069, 0.00233347, 0.316248, 0.00344312, 0.110502, 0.00360879, 0.0287995, 0.00248517, 0.00610172, 0.0019629),\n",
    "(2.9, 0.70607, 0.000842615, 0.334122, 0.00281651, 0.12531, 0.00254675, 0.0361658, 0.00230141, 0.00907529, 0.00177445),\n",
    "(3, 0.717104, 0.00129764, 0.350786, 0.00345471, 0.133449, 0.0042937, 0.0381014, 0.00374328, 0.00783527, 0.00210303)])\n",
    "\n",
    "β = data.T[0,:]\n",
    "W1μ = data.T[1,:]\n",
    "W1σ = data.T[2,:]\n",
    "W2σ = data.T[4,:]\n",
    "W3μ = data.T[5,:]\n",
    "W3σ = data.T[6,:]\n",
    "W4μ = data.T[7,:]\n",
    "W4σ = data.T[8,:]\n",
    "W5μ = data.T[9,:]\n",
    "W5σ = data.T[10,:]\n",
    "\n",
    "a2K = np.zeros(30)\n",
    "a2Kσ = np.zeros(30)"
   ]
  },
  {
   "cell_type": "code",
   "execution_count": 14,
   "metadata": {
    "collapsed": true,
    "deletable": true,
    "editable": true
   },
   "outputs": [],
   "source": []
  },
  {
   "cell_type": "code",
   "execution_count": 117,
   "metadata": {
    "collapsed": false,
    "deletable": true,
    "editable": true
   },
   "outputs": [
    {
     "name": "stderr",
     "output_type": "stream",
     "text": [
      "/Library/Frameworks/Python.framework/Versions/3.5/lib/python3.5/site-packages/ipykernel/__main__.py:2: RuntimeWarning: overflow encountered in exp\n",
      "  from ipykernel import kernelapp as app\n"
     ]
    }
   ],
   "source": [
    "def W(s, a, b, c):\n",
    "    return np.exp(-(a + b*s + c*s**2))\n",
    "\n",
    "for i in range(20,30):\n",
    "    popt, pcov = curve_fit(W, np.arange(1,6),\n",
    "                          [W1μ[i], W2μ[i], W3μ[i], W4μ[i], W5μ[i]],\n",
    "                          sigma=[W1σ[i], W2σ[i], W3σ[i], W4σ[i], W5σ[i]],\n",
    "                          absolute_sigma=True)\n",
    "    a2K[i] = popt[2]\n",
    "    a2Kσ[i] = sqrt(pcov[2,2])"
   ]
  },
  {
   "cell_type": "code",
   "execution_count": 118,
   "metadata": {
    "collapsed": false,
    "deletable": true,
    "editable": true
   },
   "outputs": [],
   "source": [
    "def W(s, b, c):\n",
    "    return np.exp(-(b*s + c*s**2))\n",
    "\n",
    "for i in range(10,20):\n",
    "    popt, pcov = curve_fit(W, np.arange(1,3),\n",
    "                          [W1μ[i], W2μ[i]],\n",
    "                          sigma=[W1σ[i], W2σ[i]],\n",
    "                          absolute_sigma=True)\n",
    "    a2K[i] = popt[1]\n",
    "    a2Kσ[i] = sqrt(pcov[1,1])"
   ]
  },
  {
   "cell_type": "code",
   "execution_count": 119,
   "metadata": {
    "collapsed": true,
    "deletable": true,
    "editable": true
   },
   "outputs": [],
   "source": [
    "def W(s, c):\n",
    "    return np.exp(-c*s**2)\n",
    "\n",
    "for i in range(0,10):\n",
    "    popt, pcov = curve_fit(W, np.arange(1,3),\n",
    "                          [W1μ[i]],\n",
    "                          sigma=[W1σ[i]],\n",
    "                          absolute_sigma=True)\n",
    "    a2K[i] = popt[0]\n",
    "    a2Kσ[i] = sqrt(pcov[0,0])"
   ]
  },
  {
   "cell_type": "code",
   "execution_count": 18,
   "metadata": {
    "collapsed": false,
    "deletable": true,
    "editable": true
   },
   "outputs": [
    {
     "data": {
      "image/png": "[encoded data removed]",
      "text/plain": [
       "<matplotlib.figure.Figure at 0x107c4a8d0>"
      ]
     },
     "metadata": {},
     "output_type": "display_data"
    }
   ],
   "source": [
    "plt.scatter(β, W1μ)\n",
    "plt.scatter(β, W2μ)\n",
    "plt.scatter(β, W3μ)\n",
    "plt.scatter(β, W4μ)\n",
    "plt.scatter(β, W5μ)\n",
    "plt.plot(β[β<2.1], β[β<2.1]/4)\n",
    "plt.plot(β[β>2.1], 1 - 3/(4*β[β>2.1]))\n",
    "plt.plot(β[β<2.1], (β[β<2.1]/4)**4)\n",
    "#plt.plot(β[β>2.1], 1-3.0/(4*β[β>2.1]))\n",
    "#plt.errorbar(β, W1μ, yerr=W1σ)\n",
    "#plt.scatter(np.arange(1,6), [W1μ[5], W2μ[5], W3μ[5], W4μ[5], W5μ[5]])\n",
    "#plt.scatter(np.arange(1,6), [0.768584, 0.590902, 0.453493, 0.348141, 0.267631])\n",
    "plt.show()"
   ]
  },
  {
   "cell_type": "code",
   "execution_count": 70,
   "metadata": {
    "collapsed": false,
    "deletable": true,
    "editable": true
   },
   "outputs": [
    {
     "data": {
      "image/png": "[encoded data removed]",
      "text/plain": [
       "<matplotlib.figure.Figure at 0x10776db70>"
      ]
     },
     "metadata": {},
     "output_type": "display_data"
    }
   ],
   "source": [
    "plt.scatter(np.arange(1,6), 10*np.abs([W1μ[22], W2μ[22], W3μ[22], W4μ[22], W5μ[22]]))\n",
    "plt.yscale(\"log\")\n",
    "plt.show()"
   ]
  },
  {
   "cell_type": "code",
   "execution_count": 124,
   "metadata": {
    "collapsed": false,
    "deletable": true,
    "editable": true
   },
   "outputs": [
    {
     "name": "stderr",
     "output_type": "stream",
     "text": [
      "/Library/Frameworks/Python.framework/Versions/3.5/lib/python3.5/site-packages/ipykernel/__main__.py:9: RuntimeWarning: divide by zero encountered in log\n"
     ]
    },
    {
     "data": {
      "image/png": "[encoded data removed]",
      "text/plain": [
       "<matplotlib.figure.Figure at 0x107c51198>"
      ]
     },
     "metadata": {},
     "output_type": "display_data"
    }
   ],
   "source": [
    "fig = plt.figure(num=None, figsize=(6,8), dpi=100, facecolor='w', edgecolor='k')\n",
    "ax = fig.add_subplot(111)\n",
    "ax.set_autoscale_on(False)\n",
    "ax.set_xlim([0,3])\n",
    "ax.set_ylim([10**(-1.4),6])\n",
    "#ax.set_aspect(1.5)\n",
    "\n",
    "plt.errorbar(β, a2K, yerr=a2Kσ, )\n",
    "plt.plot(np.arange(3000)/1000, -np.log(np.arange(3000)/4000))\n",
    "plt.plot(np.arange(1600)/1000+1.6, np.exp(-6*pi**2/11 * (np.arange(1600)/1000 - 0.4)))\n",
    "plt.yscale(\"log\")\n",
    "\n",
    "plt.xlabel(\"beta=4/e^2\")\n",
    "plt.ylabel(\"a^2 K\")\n",
    "plt.show()"
   ]
  },
  {
   "cell_type": "code",
   "execution_count": 6,
   "metadata": {
    "collapsed": false,
    "deletable": true,
    "editable": true
   },
   "outputs": [],
   "source": [
    "# k = 1, β = 2.3\n",
    "from random import random\n",
    "a = []\n",
    "for i in range(10000):\n",
    "    w = exp(-4.6)\n",
    "    \n",
    "    xtrial = random()*(1.0 - w) + w\n",
    "    a0 = 1 + log(xtrial)/(2.3)\n",
    "    while sqrt(1-a0*a0) < random():\n",
    "        xtrial = random()*(1.0 - w) + w\n",
    "        a0 = 1 + log(xtrial)/(2.3)\n",
    "    a += [a0]"
   ]
  },
  {
   "cell_type": "code",
   "execution_count": 7,
   "metadata": {
    "collapsed": false,
    "deletable": true,
    "editable": true
   },
   "outputs": [
    {
     "data": {
      "image/png": "[encoded data removed]",
      "text/plain": [
       "<matplotlib.figure.Figure at 0x1073447b8>"
      ]
     },
     "metadata": {},
     "output_type": "display_data"
    }
   ],
   "source": [
    "plt.hist(a, 50)\n",
    "plt.show()"
   ]
  },
  {
   "cell_type": "code",
   "execution_count": 8,
   "metadata": {
    "collapsed": false,
    "deletable": true,
    "editable": true
   },
   "outputs": [
    {
     "data": {
      "image/png": "[encoded data removed]",
      "text/plain": [
       "<matplotlib.figure.Figure at 0x1074fa940>"
      ]
     },
     "metadata": {},
     "output_type": "display_data"
    }
   ],
   "source": [
    "def p(a):\n",
    "    return np.sqrt(1-a**2)*np.exp(a*2.3)\n",
    "    \n",
    "plt.plot(1 - np.arange(1000)/500.0, p(1 - np.arange(1000)/500.0))\n",
    "plt.show()"
   ]
  },
  {
   "cell_type": "code",
   "execution_count": 9,
   "metadata": {
    "collapsed": false,
    "deletable": true,
    "editable": true
   },
   "outputs": [
    {
     "name": "stdout",
     "output_type": "stream",
     "text": [
      "[ 1.          1.00230215  1.00460859  1.00691933  1.00923438  1.01155373\n",
      "  1.01387741  1.01620541  1.01853773  1.02087438  1.02321537  1.02556071\n",
      "  1.02791039  1.03026443  1.03262282  1.03498557  1.0373527   1.03972419\n",
      "  1.04210007  1.04448033  1.04686498  1.04925402  1.05164746  1.0540453\n",
      "  1.05644756  1.05885422  1.06126531  1.06368082  1.06610076  1.06852514\n",
      "  1.07095395  1.07338721  1.07582492  1.07826709  1.08071371  1.0831648\n",
      "  1.08562036  1.08808039  1.0905449   1.09301389  1.09548738  1.09796536\n",
      "  1.10044784  1.10293482  1.10542631  1.10792232  1.11042284  1.11292789\n",
      "  1.11543746  1.11795157  1.12047022  1.12299341  1.12552115  1.12805344\n",
      "  1.13059028  1.13313169  1.13567767  1.13822821  1.14078334  1.14334304\n",
      "  1.14590733  1.14847621  1.15104969  1.15362776  1.15621044  1.15879773\n",
      "  1.16138963  1.16398615  1.16658729  1.16919306  1.17180346  1.17441849\n",
      "  1.17703817  1.17966249  1.18229147  1.18492509  1.18756338  1.19020633\n",
      "  1.19285394  1.19550623  1.1981632   1.20082484  1.20349118  1.2061622\n",
      "  1.20883791  1.21151832  1.21420344  1.21689326  1.2195878   1.22228705\n",
      "  1.22499101  1.22769971  1.23041313  1.23313128  1.23585417  1.2385818\n",
      "  1.24131417  1.2440513   1.24679317  1.2495398   1.2522912   1.25504736\n",
      "  1.25780829  1.26057399  1.26334446  1.26611972  1.26889977  1.2716846\n",
      "  1.27447422  1.27726865  1.28006787  1.2828719   1.28568073  1.28849438\n",
      "  1.29131284  1.29413612  1.29696423  1.29979716  1.30263492  1.30547752\n",
      "  1.30832495  1.31117723  1.31403435  1.31689632  1.31976314  1.32263482\n",
      "  1.32551135  1.32839275  1.33127902  1.33417015  1.33706616  1.33996705\n",
      "  1.34287281  1.34578346  1.34869899  1.35161941  1.35454473  1.35747494\n",
      "  1.36041005  1.36335007  1.36629499  1.36924481  1.37219955  1.37515921\n",
      "  1.37812378  1.38109327  1.38406769  1.38704704  1.39003131  1.39302052\n",
      "  1.39601466  1.39901374  1.40201776  1.40502673  1.40804064  1.41105951\n",
      "  1.41408332  1.41711209  1.42014582  1.42318451  1.42622816  1.42927678\n",
      "  1.43233036  1.43538891  1.43845244  1.44152094  1.44459442  1.44767288\n",
      "  1.45075632  1.45384475  1.45693816  1.46003657  1.46313996  1.46624835\n",
      "  1.46936173  1.47248011  1.47560349  1.47873187  1.48186525  1.48500364\n",
      "  1.48814704  1.49129545  1.49444887  1.4976073   1.50077075  1.50393921\n",
      "  1.50711269  1.51029119  1.51347471  1.51666326  1.51985683  1.52305542\n",
      "  1.52625905  1.5294677   1.53268138  1.5359001   1.53912385  1.54235263\n",
      "  1.54558644  1.5488253   1.55206919  1.55531812  1.55857209  1.56183111\n",
      "  1.56509516  1.56836426  1.5716384   1.57491758  1.57820181  1.58149109\n",
      "  1.58478541  1.58808479  1.59138921  1.59469867  1.59801319  1.60133276\n",
      "  1.60465738  1.60798705  1.61132177  1.61466154  1.61800636  1.62135623\n",
      "  1.62471116  1.62807114  1.63143617  1.63480625  1.63818139  1.64156157\n",
      "  1.64494681  1.6483371   1.65173244  1.65513284  1.65853828  1.66194877\n",
      "  1.66536432  1.66878491  1.67221055  1.67564124  1.67907698  1.68251776\n",
      "  1.6859636   1.68941447  1.69287039  1.69633136  1.69979736  1.70326841\n",
      "  1.7067445   1.71022563  1.71371179  1.717203    1.72069923  1.72420051\n",
      "  1.72770681  1.73121815  1.73473451  1.7382559   1.74178232  1.74531377\n",
      "  1.74885023  1.75239172  1.75593822  1.75948975  1.76304628  1.76660783\n",
      "  1.77017439  1.77374596  1.77732253  1.78090411  1.78449069  1.78808226\n",
      "  1.79167884  1.7952804   1.79888696  1.8024985   1.80611503  1.80973654\n",
      "  1.81336303  1.8169945   1.82063093  1.82427234  1.82791872  1.83157005\n",
      "  1.83522635  1.8388876   1.8425538   1.84622496  1.84990106  1.8535821\n",
      "  1.85726807  1.86095898  1.86465482  1.86835559  1.87206128  1.87577188\n",
      "  1.87948739  1.88320782  1.88693315  1.89066337  1.8943985   1.89813851\n",
      "  1.9018834   1.90563318  1.90938783  1.91314735  1.91691174  1.92068099\n",
      "  1.92445509  1.92823404  1.93201783  1.93580646  1.93959993  1.94339822\n",
      "  1.94720133  1.95100925  1.95482199  1.95863953  1.96246186  1.96628898\n",
      "  1.97012089  1.97395758  1.97779903  1.98164526  1.98549623  1.98935196\n",
      "  1.99321244  1.99707765  2.00094759  2.00482225  2.00870163  2.01258571\n",
      "  2.0164745   2.02036797  2.02426614  2.02816898  2.03207649  2.03598866\n",
      "  2.03990548  2.04382695  2.04775305  2.05168378  2.05561914  2.0595591\n",
      "  2.06350366  2.06745282  2.07140656  2.07536488  2.07932777  2.08329521\n",
      "  2.08726719  2.09124372  2.09522477  2.09921035  2.10320043  2.10719501\n",
      "  2.11119407  2.11519762  2.11920564  2.12321811  2.12723503  2.13125638\n",
      "  2.13528216  2.13931236  2.14334696  2.14738595  2.15142932  2.15547706\n",
      "  2.15952916  2.16358561  2.16764639  2.1717115   2.17578091  2.17985463\n",
      "  2.18393263  2.1880149   2.19210143  2.19619222  2.20028724  2.20438648\n",
      "  2.20848993  2.21259758  2.21670941  2.22082541  2.22494557  2.22906987\n",
      "  2.23319829  2.23733084  2.24146748  2.2456082   2.249753    2.25390185\n",
      "  2.25805475  2.26221167  2.26637261  2.27053754  2.27470645  2.27887932\n",
      "  2.28305615  2.28723691  2.29142159  2.29561017  2.29980263  2.30399896\n",
      "  2.30819915  2.31240317  2.31661101  2.32082265  2.32503808  2.32925727\n",
      "  2.33348021  2.33770689  2.34193727  2.34617135  2.35040911  2.35465053\n",
      "  2.35889559  2.36314427  2.36739655  2.37165242  2.37591184  2.38017482\n",
      "  2.38444132  2.38871132  2.39298481  2.39726176  2.40154216  2.40582598\n",
      "  2.41011321  2.41440381  2.41869778  2.42299509  2.42729571  2.43159964\n",
      "  2.43590684  2.44021729  2.44453097  2.44884786  2.45316793  2.45749117\n",
      "  2.46181754  2.46614703  2.47047962  2.47481527  2.47915397  2.48349569\n",
      "  2.48784041  2.4921881   2.49653873  2.50089229  2.50524875  2.50960808\n",
      "  2.51397025  2.51833525  2.52270304  2.5270736   2.5314469   2.53582292\n",
      "  2.54020163  2.544583    2.548967    2.55335361  2.55774279  2.56213453\n",
      "  2.56652879  2.57092555  2.57532477  2.57972642  2.58413048  2.58853692\n",
      "  2.59294571  2.59735682  2.60177021  2.60618586  2.61060374  2.61502381\n",
      "  2.61944605  2.62387042  2.62829689  2.63272543  2.63715601  2.64158859\n",
      "  2.64602314  2.65045963  2.65489802  2.65933829  2.6637804   2.66822431\n",
      "  2.67266998  2.6771174   2.68156651  2.68601728  2.69046969  2.69492368\n",
      "  2.69937924  2.70383631  2.70829487  2.71275488  2.71721629  2.72167908\n",
      "  2.7261432   2.73060862  2.73507529  2.73954318  2.74401225  2.74848247\n",
      "  2.75295378  2.75742615  2.76189954  2.76637392  2.77084923  2.77532544\n",
      "  2.7798025   2.78428038  2.78875902  2.7932384   2.79771846  2.80219917\n",
      "  2.80668047  2.81116233  2.8156447   2.82012753  2.82461079  2.82909442\n",
      "  2.83357838  2.83806262  2.8425471   2.84703177  2.85151658  2.85600149\n",
      "  2.86048645  2.86497141  2.86945632  2.87394113  2.87842579  2.88291026\n",
      "  2.88739447  2.89187839  2.89636196  2.90084513  2.90532785  2.90981007\n",
      "  2.91429172  2.91877277  2.92325315  2.92773282  2.93221172  2.93668979\n",
      "  2.94116698  2.94564323  2.9501185   2.95459271  2.95906582  2.96353777\n",
      "  2.9680085   2.97247795  2.97694606  2.98141278  2.98587804  2.99034179\n",
      "  2.99480396  2.9992645   3.00372335  3.00818043  3.01263569  3.01708907\n",
      "  3.02154051  3.02598993  3.03043728  3.03488249  3.0393255   3.04376624\n",
      "  3.04820464  3.05264064  3.05707417  3.06150517  3.06593355  3.07035927\n",
      "  3.07478224  3.0792024   3.08361968  3.08803401  3.09244531  3.09685351\n",
      "  3.10125855  3.10566034  3.11005881  3.1144539   3.11884552  3.12323361\n",
      "  3.12761808  3.13199885  3.13637586  3.14074902  3.14511826  3.14948349\n",
      "  3.15384464  3.15820163  3.16255438  3.1669028   3.17124682  3.17558635\n",
      "  3.1799213   3.1842516   3.18857716  3.1928979   3.19721373  3.20152456\n",
      "  3.20583031  3.21013088  3.2144262   3.21871617  3.2230007   3.2272797\n",
      "  3.23155308  3.23582075  3.24008262  3.24433859  3.24858857  3.25283247\n",
      "  3.25707018  3.26130162  3.26552668  3.26974528  3.2739573   3.27816265\n",
      "  3.28236124  3.28655295  3.2907377   3.29491537  3.29908587  3.30324909\n",
      "  3.30740492  3.31155327  3.31569402  3.31982706  3.3239523   3.32806961\n",
      "  3.3321789   3.33628004  3.34037294  3.34445747  3.34853353  3.35260099\n",
      "  3.35665976  3.3607097   3.3647507   3.36878265  3.37280542  3.37681891\n",
      "  3.38082298  3.38481751  3.38880239  3.39277749  3.39674268  3.40069785\n",
      "  3.40464286  3.40857758  3.4125019   3.41641568  3.42031878  3.42421108\n",
      "  3.42809245  3.43196276  3.43582186  3.43966962  3.44350591  3.44733059\n",
      "  3.45114351  3.45494455  3.45873355  3.46251038  3.4662749   3.47002695\n",
      "  3.4737664   3.47749309  3.48120688  3.48490761  3.48859515  3.49226933\n",
      "  3.49593001  3.49957702  3.50321022  3.50682945  3.51043455  3.51402535\n",
      "  3.51760171  3.52116345  3.52471042  3.52824245  3.53175937  3.53526102\n",
      "  3.53874723  3.54221782  3.54567263  3.54911148  3.55253421  3.55594062\n",
      "  3.55933055  3.56270382  3.56606024  3.56939964  3.57272183  3.57602663\n",
      "  3.57931385  3.58258329  3.58583478  3.58906813  3.59228313  3.59547959\n",
      "  3.59865732  3.60181612  3.60495579  3.60807613  3.61117693  3.614258\n",
      "  3.61731912  3.62036008  3.62338068  3.62638071  3.62935994  3.63231817\n",
      "  3.63525517  3.63817074  3.64106463  3.64393664  3.64678654  3.64961409\n",
      "  3.65241908  3.65520127  3.65796042  3.6606963   3.66340867  3.66609729\n",
      "  3.66876193  3.67140233  3.67401825  3.67660944  3.67917565  3.68171663\n",
      "  3.68423213  3.68672187  3.68918561  3.69162308  3.69403402  3.69641816\n",
      "  3.69877523  3.70110495  3.70340706  3.70568127  3.70792731  3.71014488\n",
      "  3.71233372  3.71449352  3.716624    3.71872487  3.72079582  3.72283656\n",
      "  3.72484679  3.7268262   3.72877448  3.73069133  3.73257643  3.73442946\n",
      "  3.7362501   3.73803803  3.73979292  3.74151445  3.74320228  3.74485607\n",
      "  3.74647549  3.74806019  3.74960983  3.75112405  3.75260251  3.75404484\n",
      "  3.75545069  3.75681969  3.75815148  3.75944568  3.76070192  3.76191981\n",
      "  3.76309898  3.76423904  3.7653396   3.76640026  3.76742062  3.76840028\n",
      "  3.76933883  3.77023586  3.77109095  3.77190368  3.77267363  3.77340036\n",
      "  3.77408345  3.77472244  3.7753169   3.77586638  3.77637042  3.77682857\n",
      "  3.77724035  3.77760531  3.77792296  3.77819282  3.77841442  3.77858725\n",
      "  3.77871083  3.77878465  3.77880819  3.77878096  3.77870243  3.77857207\n",
      "  3.77838934  3.77815372  3.77786466  3.77752161  3.777124    3.77667128\n",
      "  3.77616287  3.77559819  3.77497667  3.7742977   3.77356069  3.77276504\n",
      "  3.77191012  3.77099531  3.77001999  3.76898352  3.76788525  3.76672452\n",
      "  3.76550068  3.76421305  3.76286096  3.76144372  3.75996062  3.75841096\n",
      "  3.75679403  3.7551091   3.75335543  3.75153228  3.74963889  3.74767451\n",
      "  3.74563834  3.74352961  3.74134752  3.73909126  3.73676     3.73435293\n",
      "  3.73186918  3.72930792  3.72666826  3.72394934  3.72115025  3.71827009\n",
      "  3.71530794  3.71226287  3.70913392  3.70592014  3.70262056  3.69923417\n",
      "  3.69575997  3.69219695  3.68854406  3.68480024  3.68096443  3.67703555\n",
      "  3.67301247  3.66889408  3.66467924  3.66036679  3.65595554  3.65144429\n",
      "  3.64683184  3.64211693  3.6372983   3.63237468  3.62734475  3.62220718\n",
      "  3.61696063  3.61160372  3.60613504  3.60055318  3.59485667  3.58904404\n",
      "  3.58311378  3.57706436  3.57089421  3.56460174  3.55818533  3.55164332\n",
      "  3.54497402  3.5381757   3.53124662  3.52418497  3.51698894  3.50965666\n",
      "  3.50218621  3.49457566  3.48682302  3.47892626  3.47088331  3.46269205\n",
      "  3.45435031  3.44585589  3.43720652  3.42839988  3.4194336   3.41030527\n",
      "  3.40101241  3.39155246  3.38192284  3.37212087  3.36214384  3.35198892\n",
      "  3.34165327  3.33113393  3.32042788  3.30953203  3.2984432   3.28715811\n",
      "  3.27567342  3.26398567  3.25209131  3.23998671  3.22766811  3.21513165\n",
      "  3.20237335  3.18938912  3.17617475  3.16272588  3.14903803  3.13510657\n",
      "  3.12092672  3.10649355  3.09180196  3.07684669  3.06162227  3.04612307\n",
      "  3.03034325  3.01427675  2.99791729  2.98125836  2.96429322  2.94701483\n",
      "  2.9294159   2.91148884  2.89322576  2.87461842  2.85565825  2.83633629\n",
      "  2.8166432   2.79656922  2.77610412  2.75523721  2.73395727  2.71225255\n",
      "  2.69011067  2.66751867  2.64446285  2.62092881  2.59690134  2.57236437\n",
      "  2.54730089  2.52169289  2.49552124  2.46876561  2.44140437  2.41341441\n",
      "  2.38477107  2.35544792  2.32541661  2.29464664  2.26310513  2.23075655\n",
      "  2.19756239  2.1634808   2.12846614  2.09246851  2.05543309  2.01729951\n",
      "  1.97800093  1.93746305  1.89560286  1.85232709  1.80753033  1.76109268\n",
      "  1.71287668  1.6627235   1.61044785  1.55583133  1.49861334  1.43847856\n",
      "  1.37503918  1.30780893  1.2361636   1.15927865  1.07602472  0.98478035\n",
      "  0.88306376  0.7667086   0.62761352  0.44492297]\n"
     ]
    }
   ],
   "source": [
    "print(p(np.arange(1000)/1000.0))"
   ]
  }
 ],
 "metadata": {
  "kernelspec": {
   "display_name": "Python 3",
   "language": "python",
   "name": "python3"
  },
  "language_info": {
   "codemirror_mode": {
    "name": "ipython",
    "version": 3
   },
   "file_extension": ".py",
   "mimetype": "text/x-python",
   "name": "python",
   "nbconvert_exporter": "python",
   "pygments_lexer": "ipython3",
   "version": "3.5.1"
  }
 },
 "nbformat": 4,
 "nbformat_minor": 2
}
